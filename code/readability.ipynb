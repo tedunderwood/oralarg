{
 "cells": [
  {
   "cell_type": "markdown",
   "metadata": {},
   "source": [
    "# Readability"
   ]
  },
  {
   "cell_type": "code",
   "execution_count": 173,
   "metadata": {},
   "outputs": [],
   "source": [
    "import pandas as pd\n",
    "from textstat.textstat import easy_word_set\n",
    "from matplotlib import pyplot as plt\n",
    "%matplotlib inline\n",
    "import numpy as np\n",
    "from collections import Counter\n",
    "import re"
   ]
  },
  {
   "cell_type": "markdown",
   "metadata": {},
   "source": [
    "## Defining some basic lexicons and measures\n",
    "\n",
    "Textstat.easywordset (imported above) gives us a conventional list of 3,000 \"easy words\" that is used, for instance in the Dale-Chall readability measure.\n",
    "\n",
    "We also need a large lexicon of 600,000 words that will include almost all English words. We'll use this below to identify proper nouns: things not in the large_lexicon, and capitalized, will be presumed to be proper nouns."
   ]
  },
  {
   "cell_type": "code",
   "execution_count": 127,
   "metadata": {},
   "outputs": [],
   "source": [
    "large_lexicon = set()\n",
    "\n",
    "with open('../../DataMunging/rulesets/MainDictionary.txt', encoding = 'utf-8') as f:\n",
    "    for line in f:\n",
    "        fields = line.strip().split('\\t')\n",
    "        large_lexicon.add(fields[0])        "
   ]
  },
  {
   "cell_type": "markdown",
   "metadata": {},
   "source": [
    "#### functions that count syllables"
   ]
  },
  {
   "cell_type": "code",
   "execution_count": 206,
   "metadata": {},
   "outputs": [],
   "source": [
    "def syllable_count(word):\n",
    "    count = 0\n",
    "    vowels = \"aeiouy\"\n",
    "    if word[0] in vowels:\n",
    "        count += 1\n",
    "    for index in range(1, len(word)):\n",
    "        if word[index] in vowels and word[index - 1] not in vowels:\n",
    "            count += 1\n",
    "            if word.endswith(\"e\"):\n",
    "                count -= 1\n",
    "    if count == 0:\n",
    "        count += 1\n",
    "    return count\n",
    "\n",
    "def text_syllables(text):\n",
    "    words = text.split()\n",
    "    syllables = 0\n",
    "    one_syllable_count = 0\n",
    "    \n",
    "    for w in words:\n",
    "        w = w.strip('.,!?)([])-').lower()\n",
    "        if len(w) > 0:\n",
    "            this_syllable = syllable_count(w)\n",
    "            syllables += this_syllable\n",
    "            if syllables < 2:\n",
    "                one_syllable_count += 1\n",
    "    \n",
    "    return syllables, one_syllable_count\n",
    "        \n",
    "def polysyllable_count(text):\n",
    "    words = text.split()\n",
    "    wordcount = len(words)\n",
    "    if wordcount < 1:\n",
    "        return 0\n",
    "    \n",
    "    polysyllable = 0\n",
    "    \n",
    "    for w in words:\n",
    "        w = w.strip('.,!?)([])-')\n",
    "        syllable_count = syllables_count(w)\n",
    "        if syllable_count >= 3:\n",
    "            polysyllable += 1\n",
    "    return polysyllable"
   ]
  },
  {
   "cell_type": "code",
   "execution_count": 211,
   "metadata": {},
   "outputs": [
    {
     "name": "stdout",
     "output_type": "stream",
     "text": [
      "these 1\n",
      "challenges 3\n",
      "trouble 1\n",
      "our 1\n",
      "hearts 1\n",
      "and 1\n",
      "vocabulary 5\n",
      "solution 3\n",
      "imperfect 3\n",
      "but 1\n",
      "I 1\n",
      "accept 2\n"
     ]
    }
   ],
   "source": [
    "for w in ['these', 'challenges', 'trouble', 'our', 'hearts', 'and', 'vocabulary', \n",
    "          'solution', 'imperfect', 'but', 'I', 'accept']:\n",
    "    print(w, syllable_count(w))"
   ]
  },
  {
   "cell_type": "markdown",
   "metadata": {},
   "source": [
    "#### a function that counts \"difficult words\"\n",
    "\n",
    "This relies heavily on the Dale-Chall \"easy word\" list, but refines it in ways borrowed from the Gunning \"fog\" index: by excluding not just easy words but relatively short words, proper nouns, and easy words + -ed or -s from our list of \"difficult words.\"\n",
    "\n",
    "I think this is probably the measure best suited to oral argument."
   ]
  },
  {
   "cell_type": "code",
   "execution_count": 183,
   "metadata": {},
   "outputs": [],
   "source": [
    "propernouns = Counter()\n",
    "hardwords = Counter()\n",
    "\n",
    "def difficult_word_pct(text):\n",
    "    global large_lexicon, propernouns, hardwords, easy_word_set\n",
    "    \n",
    "    words = text.split()\n",
    "    wordcount = len(words)\n",
    "    if wordcount < 1:\n",
    "        return 0.2\n",
    "    \n",
    "    difficult = 0\n",
    "    \n",
    "    for w in words:\n",
    "        \n",
    "        w = w.strip('.,!?)([])-')\n",
    "        if len(w) > 0 and w[0].isupper():\n",
    "            capitalized = True\n",
    "        else:\n",
    "            capitalized = False\n",
    "        w = w.lower()\n",
    "        \n",
    "        if w in easy_word_set:\n",
    "            continue\n",
    "            \n",
    "        if len(w) < 7:\n",
    "            continue\n",
    "        \n",
    "        if w.endswith('ed'):\n",
    "            if w[0 : -2] in easy_word_set:\n",
    "                continue\n",
    "        \n",
    "        if w.endswith('s'):\n",
    "            if w[0 : -1] in easy_word_set:\n",
    "                continue\n",
    "        \n",
    "        if capitalized and w not in large_lexicon:\n",
    "            w = w[0].upper() + w[1: ]\n",
    "            propernouns[w] += 1\n",
    "        \n",
    "        if '-' in w:\n",
    "            wparts = w.split('-')\n",
    "            allok = True\n",
    "            for wpart in wparts:\n",
    "                if wpart not in easy_word_set and len(wpart) > 2:\n",
    "                    allok = False\n",
    "            if not allok:\n",
    "                difficult += 1\n",
    "                hardwords[w] += 1\n",
    "        else:\n",
    "            difficult += 1\n",
    "            hardwords[w] += 1\n",
    "        \n",
    "    return difficult/wordcount"
   ]
  },
  {
   "cell_type": "markdown",
   "metadata": {},
   "source": [
    "#### a function that divides text into sentences\n",
    "\n",
    "This is shamelessly borrowed from Stack Overflow. It deals with a lot of edge cases pretty well."
   ]
  },
  {
   "cell_type": "code",
   "execution_count": 184,
   "metadata": {},
   "outputs": [],
   "source": [
    "# The code below is directly borrowed from Deduplicator at\n",
    "# https://stackoverflow.com/questions/4576077/python-split-text-on-sentences\n",
    "\n",
    "caps = \"([A-Z])\"\n",
    "prefixes = \"(Mr|St|Mrs|Ms|Dr)[.]\"\n",
    "suffixes = \"(Inc|Ltd|Jr|Sr|Co)\"\n",
    "starters = \"(Mr|Mrs|Ms|Dr|He\\s|She\\s|It\\s|They\\s|Their\\s|Our\\s|We\\s|But\\s|However\\s|That\\s|This\\s|Wherever)\"\n",
    "acronyms = \"([A-Z][.][A-Z][.](?:[A-Z][.])?)\"\n",
    "websites = \"[.](com|net|org|io|gov)\"\n",
    "\n",
    "def split_into_sentences(text):\n",
    "    text = \" \" + text + \"  \"\n",
    "    text = text.replace(\"\\n\",\" \")\n",
    "    text = re.sub(prefixes,\"\\\\1<prd>\",text)\n",
    "    text = re.sub(websites,\"<prd>\\\\1\",text)\n",
    "    if \"Ph.D\" in text: text = text.replace(\"Ph.D.\",\"Ph<prd>D<prd>\")\n",
    "    text = re.sub(\"\\s\" + caps + \"[.] \",\" \\\\1<prd> \",text)\n",
    "    text = re.sub(acronyms+\" \"+starters,\"\\\\1<stop> \\\\2\",text)\n",
    "    text = re.sub(caps + \"[.]\" + caps + \"[.]\" + caps + \"[.]\",\"\\\\1<prd>\\\\2<prd>\\\\3<prd>\",text)\n",
    "    text = re.sub(caps + \"[.]\" + caps + \"[.]\",\"\\\\1<prd>\\\\2<prd>\",text)\n",
    "    text = re.sub(\" \"+suffixes+\"[.] \"+starters,\" \\\\1<stop> \\\\2\",text)\n",
    "    text = re.sub(\" \"+suffixes+\"[.]\",\" \\\\1<prd>\",text)\n",
    "    text = re.sub(\" \" + caps + \"[.]\",\" \\\\1<prd>\",text)\n",
    "    if \"”\" in text: text = text.replace(\".”\",\"”.\")\n",
    "    if \"\\\"\" in text: text = text.replace(\".\\\"\",\"\\\".\")\n",
    "    if \"!\" in text: text = text.replace(\"!\\\"\",\"\\\"!\")\n",
    "    if \"?\" in text: text = text.replace(\"?\\\"\",\"\\\"?\")\n",
    "    text = text.replace(\".\",\".<stop>\")\n",
    "    text = text.replace(\"?\",\"?<stop>\")\n",
    "    text = text.replace(\"!\",\"!<stop>\")\n",
    "    text = text.replace(\"<prd>\",\".\")\n",
    "    sentences = text.split(\"<stop>\")\n",
    "    sentences = sentences[:-1]\n",
    "    sentences = [s.strip() for s in sentences]\n",
    "    return sentences"
   ]
  },
  {
   "cell_type": "code",
   "execution_count": 197,
   "metadata": {},
   "outputs": [
    {
     "data": {
      "text/plain": [
       "['This is a story about Mr. John Johnson, Jr., who is our hero.',\n",
       " 'He laughs!',\n",
       " 'He sings about the F.B.I!',\n",
       " 'Is it a good story?',\n",
       " \"Unfortunately it's not.\",\n",
       " 'It ends anticlimactically.']"
      ]
     },
     "execution_count": 197,
     "metadata": {},
     "output_type": "execute_result"
    }
   ],
   "source": [
    "text = \"This is a story about Mr. John Johnson, Jr., who is our hero. He laughs!  \\\n",
    "He sings about the F.B.I! Is it a good story? Unfortunately it's not.It ends anticlimactically.\"\n",
    "split_into_sentences(text)"
   ]
  },
  {
   "cell_type": "markdown",
   "metadata": {},
   "source": [
    "## Actually computing readability measures\n",
    "\n",
    "Our strategy is to proceed term by term, using the files previously produced by build_term_datasets.ipynb. Each row here represents everything said by one justice about one case.\n",
    "\n",
    "In each term we iterate through the rows. We ignore extremely short rows with 1 or 2 words. But otherwise we calculate a bunch of metrics for the row and add them to lists. When we're done with a term, we take the *median* for each metric's list, and consider that the yearly value.\n",
    "\n",
    "The formulas I'm using for each metric are, at the moment, drawn directly from\n",
    "https://en.wikipedia.org/wiki/Readability#The_Gunning_fog_formula\n",
    "\n",
    "For a publishable version I would trace back to the original publications."
   ]
  },
  {
   "cell_type": "code",
   "execution_count": 212,
   "metadata": {},
   "outputs": [
    {
     "name": "stdout",
     "output_type": "stream",
     "text": [
      "1955\n",
      "\n",
      "1956\n",
      "\n",
      "1957\n",
      "\n",
      "1958\n",
      "\n",
      "1959\n",
      "\n",
      "1960\n",
      "\n",
      "1961\n",
      "\n",
      "1962\n",
      "\n",
      "1963\n",
      "\n",
      "1964\n",
      "\n",
      "1965\n",
      "\n",
      "1966\n",
      "\n",
      "1967\n",
      "\n",
      "1968\n",
      "\n",
      "1969\n",
      "\n",
      "1970\n",
      "\n",
      "1971\n",
      "\n",
      "1972\n",
      "\n",
      "1973\n",
      "\n",
      "1974\n",
      "\n",
      "1975\n",
      "\n",
      "1976\n",
      "\n",
      "1977\n",
      "\n",
      "1978\n",
      "\n",
      "1979\n",
      "\n",
      "1980\n",
      "\n",
      "1982\n",
      "\n",
      "1983\n",
      "\n",
      "1984\n",
      "\n",
      "1985\n",
      "\n",
      "1986\n",
      "\n",
      "1987\n",
      "\n",
      "1988\n",
      "\n",
      "1989\n",
      "\n",
      "1990\n",
      "\n",
      "1991\n",
      "\n",
      "1992\n",
      "\n",
      "1993\n",
      "\n",
      "1994\n",
      "\n",
      "1995\n",
      "\n",
      "1996\n",
      "\n",
      "1997\n",
      "\n",
      "1998\n",
      "\n",
      "1999\n",
      "\n",
      "2000\n",
      "\n",
      "2001\n",
      "\n",
      "2002\n",
      "\n",
      "2003\n",
      "\n",
      "2004\n",
      "\n",
      "2005\n",
      "\n",
      "2006\n",
      "\n",
      "2007\n",
      "\n",
      "2008\n",
      "\n",
      "2009\n",
      "\n",
      "2010\n",
      "\n",
      "2011\n",
      "\n",
      "2012\n",
      "\n",
      "2013\n",
      "\n",
      "2014\n",
      "\n"
     ]
    },
    {
     "name": "stderr",
     "output_type": "stream",
     "text": [
      "/Users/tunder/miniconda3/lib/python3.5/site-packages/numpy/core/_methods.py:59: RuntimeWarning: Mean of empty slice.\n",
      "  warnings.warn(\"Mean of empty slice.\", RuntimeWarning)\n",
      "/Users/tunder/miniconda3/lib/python3.5/site-packages/numpy/core/_methods.py:70: RuntimeWarning: invalid value encountered in double_scalars\n",
      "  ret = ret.dtype.type(ret / rcount)\n"
     ]
    }
   ],
   "source": [
    "terms = []\n",
    "fog_vals = []\n",
    "diff_vals = []\n",
    "sl_vals = []\n",
    "smog_vals = []\n",
    "wordlen_vals = []\n",
    "flesch_vals = []\n",
    "dalechall_vals = []\n",
    "\n",
    "all_frames = []\n",
    "\n",
    "for term in range(1955, 2015):\n",
    "    if term == 1981:\n",
    "        continue\n",
    "        \n",
    "    print(term)\n",
    "    infile = '/Volumes/TARDIS/oralarg/termgrouped/term' + str(term) + '.tsv'\n",
    "    if not os.path.isfile(infile):\n",
    "        continue\n",
    "    else:\n",
    "        data = pd.read_csv(infile, sep = '\\t')\n",
    "    \n",
    "    fog = []\n",
    "    diffpcts = []\n",
    "    sl = []\n",
    "    \n",
    "    counts_used = []\n",
    "    cases_used = []\n",
    "    justices_used = []\n",
    "    terms_used = []\n",
    "    speakercases = []\n",
    "    smogs = []\n",
    "    wordlens = []\n",
    "    flesches = []\n",
    "    dalechalls = []\n",
    "    \n",
    "    ctr = 0\n",
    "    for idx, row in data.iterrows():\n",
    "        text = row['text']\n",
    "        count = row['wordct']\n",
    "        speakercase = row['speakercase']\n",
    "        justice = row['justice']\n",
    "        case = '-'.join(speakercase.split('-')[0:-1])\n",
    "        \n",
    "        \n",
    "        if count < 3:\n",
    "            continue\n",
    "        else:\n",
    "            counts_used.append(count)\n",
    "            justices_used.append(justice)\n",
    "            terms_used.append(term)\n",
    "            cases_used.append(case)\n",
    "            speakercases.append(speakercase)\n",
    "                  \n",
    "        sentences = split_into_sentences(text)\n",
    "        sentcount = len(sentences)\n",
    "        \n",
    "        syllablecount, one_syllable_words = text_syllables(text)\n",
    "            \n",
    "        avg_sent_length = count / (sentcount + 0.01)\n",
    "        sl.append(avg_sent_length)\n",
    "        \n",
    "        flesch = 206.835 - (1.015 * avg_sent_length) - (84.6 * (syllablecount / count))\n",
    "        flesches.append(flesch)\n",
    "        \n",
    "        diffpct = difficult_word_pct(text) * 100\n",
    "        diffpcts.append(diffpct)\n",
    "        \n",
    "        thisfog = 0.4 * (avg_sent_length + diffpct)\n",
    "        fog.append(thisfog)\n",
    "        \n",
    "        #poly_syllab = polysyllable_count(text)\n",
    "        # SMOG = (1.043 * (30*(poly_syllab / sentcount))**0.5)  + 3.1291\n",
    "        #smogs.append(SMOG)\n",
    "        \n",
    "        wordlenlist = [len(x.strip('.,()[]!?')) for x in text.split()]\n",
    "        wordlens.append(np.mean(wordlenlist))\n",
    "        \n",
    "        dalechall = (0.1579 * diffpct) + (0.0496 * avg_sent_length) + 3.6365\n",
    "        dalechalls.append(dalechall)\n",
    "        \n",
    "    \n",
    "    # flesch_vals.append(np.mean(flesch))\n",
    "    diffmedian = np.median(diffpcts)\n",
    "    diff_vals.append(diffmedian)\n",
    "    \n",
    "    fogmedian = np.median(fog)\n",
    "    fog_vals.append(fogmedian)\n",
    "    smogmedian = np.median(smogs)\n",
    "    smog_vals.append(smogmedian)\n",
    "    wordlength = np.median(wordlens)\n",
    "    wordlen_vals.append(wordlength)\n",
    "    print()\n",
    "    sl_vals.append(np.median(sl)) \n",
    "    flesch_vals.append(np.median(flesches))\n",
    "    dalechall_vals.append(np.median(dalechalls))\n",
    "    \n",
    "    # smog_vals.append(np.median(smogs))\n",
    "    \n",
    "    terms.append(term)\n",
    "    \n",
    "    df = pd.DataFrame({'case': cases_used, 'justice': justices_used, 'speakercase': speakercases, \n",
    "                    'difficultpct': diffpcts, 'sentlength': sl, 'fog': fog, 'term': terms_used,\n",
    "                      'flesch': flesches, 'dalechall': dalechalls})\n",
    "    all_frames.append(df)"
   ]
  },
  {
   "cell_type": "markdown",
   "metadata": {},
   "source": [
    "### word length\n",
    "\n",
    "Higher lengths are more difficult. Note that this is a pretty bad measure, because most words are short, so this gets dominated by difference between \"a\" and \"these,\" neither of which are in reality hard words."
   ]
  },
  {
   "cell_type": "code",
   "execution_count": 199,
   "metadata": {},
   "outputs": [
    {
     "data": {
      "image/png": "[encoded data removed]",
      "text/plain": [
       "<matplotlib.figure.Figure at 0x12427f3c8>"
      ]
     },
     "metadata": {},
     "output_type": "display_data"
    }
   ],
   "source": [
    "fig, ax = plt.subplots(figsize = (12, 8))\n",
    "ax.plot(terms, wordlen_vals)\n",
    "plt.show()"
   ]
  },
  {
   "cell_type": "markdown",
   "metadata": {},
   "source": [
    "### percentage of difficult words\n",
    "\n",
    "This is a considerably better measure, which focuses attention at the high end of the lexicon where things actually get hard. Notice also that it does *generally* track the pattern of \"word length.\" There's a decline from the early 70s to the present.\n",
    "\n",
    "This is probably the measure I trust most."
   ]
  },
  {
   "cell_type": "code",
   "execution_count": 200,
   "metadata": {},
   "outputs": [
    {
     "data": {
      "image/png": "[encoded data removed]",
      "text/plain": [
       "<matplotlib.figure.Figure at 0x127ba0be0>"
      ]
     },
     "metadata": {},
     "output_type": "display_data"
    }
   ],
   "source": [
    "fig, ax = plt.subplots(figsize = (12, 8))\n",
    "ax.plot(terms, diff_vals)\n",
    "plt.savefig('percentdifficultwords.png')\n",
    "plt.show()"
   ]
  },
  {
   "cell_type": "markdown",
   "metadata": {},
   "source": [
    "### average sentence length\n",
    "\n",
    "There are lots of reasons not to trust this. In a transcription, sentence length is probably controlled more by the transcriber's punctuation choices than by the speaker; you see what I mean?\n",
    "\n",
    "But here it is. The abrupt and dramatic shifts here look to me suspiciously like different transcribers. But fwiw, if it were real, the decline from 70s to early 2000s would echo the decline seen above.\n",
    "\n",
    "There's a return to long sentences at the end, though."
   ]
  },
  {
   "cell_type": "code",
   "execution_count": 201,
   "metadata": {},
   "outputs": [
    {
     "data": {
      "image/png": "[encoded data removed]",
      "text/plain": [
       "<matplotlib.figure.Figure at 0x1241edc18>"
      ]
     },
     "metadata": {},
     "output_type": "display_data"
    }
   ],
   "source": [
    "fig, ax = plt.subplots(figsize = (12, 8))\n",
    "ax.plot(terms, sl_vals)\n",
    "plt.show()"
   ]
  },
  {
   "cell_type": "markdown",
   "metadata": {},
   "source": [
    "### fog index\n",
    "\n",
    "There are lots and lots of ways to combine sentence length with measures of diction difficulty. The Gunning fog index is one. I'm not sure I've calculated it strictly correctly; I think I should use syllable count rather than the Dale-Chall list to define \"difficult words.\" But this is \n",
    "\n",
    "    0.4 * (avg_sentence_length + pct_difficult_words)\n"
   ]
  },
  {
   "cell_type": "code",
   "execution_count": 202,
   "metadata": {},
   "outputs": [
    {
     "data": {
      "image/png": "[encoded data removed]",
      "text/plain": [
       "<matplotlib.figure.Figure at 0x11e785eb8>"
      ]
     },
     "metadata": {},
     "output_type": "display_data"
    }
   ],
   "source": [
    "fig, ax = plt.subplots(figsize = (12, 8))\n",
    "ax.plot(terms, fog_vals)\n",
    "plt.show()"
   ]
  },
  {
   "cell_type": "markdown",
   "metadata": {},
   "source": [
    "### Dale-Chall\n",
    "\n",
    "The Dale-Chall formula is one of the best of the readability metrics; it correlates at 0.93 with comprehension as measured on reading tests. And it broadly fits the \"difficult words\" trajectory, with just a slight uptick in the last ten years. It is:\n",
    "\n",
    "    (0.1579 * pct_difficult_words) + (0.0496 * avg_sentence_length) + 3.6365\n",
    "\n",
    "The values here probably underestimate the grade level because I exclude more categories from \"difficult words\" than Dale & Chall did."
   ]
  },
  {
   "cell_type": "code",
   "execution_count": 203,
   "metadata": {},
   "outputs": [
    {
     "data": {
      "image/png": "[encoded data removed]",
      "text/plain": [
       "<matplotlib.figure.Figure at 0x12a5dd9b0>"
      ]
     },
     "metadata": {},
     "output_type": "display_data"
    }
   ],
   "source": [
    "fig, ax = plt.subplots(figsize = (12, 8))\n",
    "ax.plot(terms, dalechall_vals)\n",
    "plt.show()"
   ]
  },
  {
   "cell_type": "markdown",
   "metadata": {},
   "source": [
    "### Flesch-Kincaid readability\n",
    "\n",
    "One of the oldest metrics; correlates at .7 with reading comprehension tests.\n",
    "\n",
    "    206.835 − (1.015 * average_sentence_length) − (84.6 * average_syllables_per_word)\n",
    "   \n",
    "On this scale higher values are *more* readable. That's the reverse of everything above, so I've flipped the y axis to keep things congruent and immediately intepretable."
   ]
  },
  {
   "cell_type": "code",
   "execution_count": 213,
   "metadata": {},
   "outputs": [
    {
     "data": {
      "image/png": "[encoded data removed]",
      "text/plain": [
       "<matplotlib.figure.Figure at 0x12a6a89b0>"
      ]
     },
     "metadata": {},
     "output_type": "display_data"
    }
   ],
   "source": [
    "fig, ax = plt.subplots(figsize = (12, 8))\n",
    "ax.plot(terms, flesch_vals)\n",
    "ax = plt.gca()\n",
    "ax.set_ylim(ax.get_ylim()[::-1])\n",
    "plt.show()"
   ]
  },
  {
   "cell_type": "markdown",
   "metadata": {},
   "source": [
    "## Producing data and writing to file"
   ]
  },
  {
   "cell_type": "code",
   "execution_count": 191,
   "metadata": {},
   "outputs": [
    {
     "data": {
      "text/plain": [
       "(39868, 9)"
      ]
     },
     "execution_count": 191,
     "metadata": {},
     "output_type": "execute_result"
    }
   ],
   "source": [
    "readability = pd.concat(all_frames, ignore_index = True)\n",
    "readability.shape"
   ]
  },
  {
   "cell_type": "code",
   "execution_count": 161,
   "metadata": {},
   "outputs": [],
   "source": [
    "readability.to_csv('../results/readability.tsv', sep = '\\t', index = False)"
   ]
  },
  {
   "cell_type": "code",
   "execution_count": 162,
   "metadata": {},
   "outputs": [],
   "source": [
    "justices = []\n",
    "terms = []\n",
    "meandiff = []\n",
    "\n",
    "by_justice = readability.groupby(['justice', 'term'])\n",
    "for justterm, df in by_justice:\n",
    "    mean_difficulty = np.mean(df.difficultpct)\n",
    "    justice, term = justterm\n",
    "    justices.append(justice)\n",
    "    terms.append(term)\n",
    "    meandiff.append(mean_difficulty)\n",
    "\n",
    "df = pd.DataFrame({'justice': justices, 'term': terms, 'meandiff': meandiff})"
   ]
  },
  {
   "cell_type": "code",
   "execution_count": 163,
   "metadata": {},
   "outputs": [],
   "source": [
    "df.to_csv('../results/difficulty_by_justice_and_term.tsv', sep = '\\t', index = False)"
   ]
  },
  {
   "cell_type": "code",
   "execution_count": 164,
   "metadata": {},
   "outputs": [],
   "source": [
    "cases = []\n",
    "meandiff = []\n",
    "\n",
    "by_cases = readability.groupby('case')\n",
    "for case, df in by_cases:\n",
    "    mean_difficulty = np.mean(df.difficultpct)\n",
    "    cases.append(case)\n",
    "    meandiff.append(mean_difficulty)\n",
    "\n",
    "df = pd.DataFrame({'case': cases, 'meandiff': meandiff})\n",
    "df.to_csv('../results/difficulty_by_case.tsv', sep = '\\t', index = False)"
   ]
  },
  {
   "cell_type": "code",
   "execution_count": 107,
   "metadata": {},
   "outputs": [
    {
     "data": {
      "text/html": [
       "<div>\n",
       "<style scoped>\n",
       "    .dataframe tbody tr th:only-of-type {\n",
       "        vertical-align: middle;\n",
       "    }\n",
       "\n",
       "    .dataframe tbody tr th {\n",
       "        vertical-align: top;\n",
       "    }\n",
       "\n",
       "    .dataframe thead th {\n",
       "        text-align: right;\n",
       "    }\n",
       "</style>\n",
       "<table border=\"1\" class=\"dataframe\">\n",
       "  <thead>\n",
       "    <tr style=\"text-align: right;\">\n",
       "      <th></th>\n",
       "      <th>justice</th>\n",
       "      <th>mq</th>\n",
       "      <th>speakercase</th>\n",
       "      <th>text</th>\n",
       "      <th>wordct</th>\n",
       "    </tr>\n",
       "  </thead>\n",
       "  <tbody>\n",
       "    <tr>\n",
       "      <th>0</th>\n",
       "      <td>AMKennedy</td>\n",
       "      <td>-0.270</td>\n",
       "      <td>2014-001-AMKennedy</td>\n",
       "      <td>So suppose that this State, North Carolina, di...</td>\n",
       "      <td>420</td>\n",
       "    </tr>\n",
       "    <tr>\n",
       "      <th>1</th>\n",
       "      <td>AScalia</td>\n",
       "      <td>1.487</td>\n",
       "      <td>2014-001-AScalia</td>\n",
       "      <td>But Mr. Fisher, we -- we don't review opinions...</td>\n",
       "      <td>1131</td>\n",
       "    </tr>\n",
       "    <tr>\n",
       "      <th>2</th>\n",
       "      <td>EKagan</td>\n",
       "      <td>-1.641</td>\n",
       "      <td>2014-001-EKagan</td>\n",
       "      <td>Mr. -- Mr. Fisher, suppose this were a Federal...</td>\n",
       "      <td>549</td>\n",
       "    </tr>\n",
       "    <tr>\n",
       "      <th>3</th>\n",
       "      <td>JGRoberts</td>\n",
       "      <td>0.561</td>\n",
       "      <td>2014-001-JGRoberts</td>\n",
       "      <td>Our first case this morning is Heien v. North ...</td>\n",
       "      <td>491</td>\n",
       "    </tr>\n",
       "    <tr>\n",
       "      <th>4</th>\n",
       "      <td>RBGinsburg</td>\n",
       "      <td>-2.474</td>\n",
       "      <td>2014-001-RBGinsburg</td>\n",
       "      <td>Mr. Fisher, I have a preliminary question.\\nEv...</td>\n",
       "      <td>385</td>\n",
       "    </tr>\n",
       "  </tbody>\n",
       "</table>\n",
       "</div>"
      ],
      "text/plain": [
       "      justice     mq          speakercase  \\\n",
       "0   AMKennedy -0.270   2014-001-AMKennedy   \n",
       "1     AScalia  1.487     2014-001-AScalia   \n",
       "2      EKagan -1.641      2014-001-EKagan   \n",
       "3   JGRoberts  0.561   2014-001-JGRoberts   \n",
       "4  RBGinsburg -2.474  2014-001-RBGinsburg   \n",
       "\n",
       "                                                text  wordct  \n",
       "0  So suppose that this State, North Carolina, di...     420  \n",
       "1  But Mr. Fisher, we -- we don't review opinions...    1131  \n",
       "2  Mr. -- Mr. Fisher, suppose this were a Federal...     549  \n",
       "3  Our first case this morning is Heien v. North ...     491  \n",
       "4  Mr. Fisher, I have a preliminary question.\\nEv...     385  "
      ]
     },
     "execution_count": 107,
     "metadata": {},
     "output_type": "execute_result"
    }
   ],
   "source": [
    "data.head()"
   ]
  },
  {
   "cell_type": "code",
   "execution_count": 121,
   "metadata": {},
   "outputs": [
    {
     "data": {
      "text/plain": [
       "True"
      ]
     },
     "execution_count": 121,
     "metadata": {},
     "output_type": "execute_result"
    }
   ],
   "source": [
    "'the' in easy_word_set"
   ]
  },
  {
   "cell_type": "code",
   "execution_count": 146,
   "metadata": {},
   "outputs": [],
   "source": [
    "hardest = hardwords.most_common(10000)"
   ]
  },
  {
   "cell_type": "code",
   "execution_count": 149,
   "metadata": {},
   "outputs": [],
   "source": [
    "with open('hardwords.txt', mode = 'w',encoding = 'utf-8') as f:\n",
    "    for word in hardest:\n",
    "        f.write(word[0] + '\\n')"
   ]
  },
  {
   "cell_type": "code",
   "execution_count": 150,
   "metadata": {},
   "outputs": [],
   "source": [
    "properest = propernouns.most_common(10000)"
   ]
  },
  {
   "cell_type": "code",
   "execution_count": 151,
   "metadata": {},
   "outputs": [],
   "source": [
    "with open('propernouns.txt', mode = 'w',encoding = 'utf-8') as f:\n",
    "    for word in properest:\n",
    "        f.write(word[0] + '\\n')"
   ]
  },
  {
   "cell_type": "code",
   "execution_count": 166,
   "metadata": {},
   "outputs": [
    {
     "name": "stdout",
     "output_type": "stream",
     "text": [
      "AFortas 15.5576175772\n",
      "AJGoldberg 36.1051371721\n",
      "AMKennedy 15.7919507805\n",
      "AScalia 14.2158447279\n",
      "BRWhite 14.4208198503\n",
      "CEWhittaker 16.9771222724\n",
      "CThomas 17.3612728783\n",
      "DHSouter 14.950943833\n",
      "EKagan 14.1658549152\n",
      "EWarren 15.3922243942\n",
      "FFrankfurter 15.1861936211\n",
      "HABlackmun 14.9861531871\n",
      "HHBurton 13.9959683952\n",
      "HLBlack 12.9126013679\n",
      "JGRoberts 15.2550119318\n",
      "JHarlan2 16.8043368512\n",
      "JPStevens 14.897865816\n",
      "LFPowell 16.8540628727\n",
      "PStewart 15.3526606986\n",
      "RBGinsburg 14.5423409381\n",
      "SAAlito 16.0473682014\n",
      "SDOConnor 17.0576125452\n",
      "SFReed 13.5342775772\n",
      "SGBreyer 11.7332002613\n",
      "SMinton 14.173343146\n",
      "SSotomayor 14.961842412\n",
      "TCClark 15.4345681272\n",
      "WEBurger 16.1375280054\n",
      "WHRehnquist 17.0090427155\n",
      "WJBrennan 15.8372102525\n",
      "WODouglas 14.6740694846\n"
     ]
    }
   ],
   "source": [
    "by_justice = readability.groupby('justice')\n",
    "for justice, df in by_justice:\n",
    "    mean_difficulty = np.mean(df.difficultpct)\n",
    "    print(justice, mean_difficulty)"
   ]
  },
  {
   "cell_type": "code",
   "execution_count": null,
   "metadata": {},
   "outputs": [],
   "source": []
  }
 ],
 "metadata": {
  "kernelspec": {
   "display_name": "Python 3",
   "language": "python",
   "name": "python3"
  },
  "language_info": {
   "codemirror_mode": {
    "name": "ipython",
    "version": 3
   },
   "file_extension": ".py",
   "mimetype": "text/x-python",
   "name": "python",
   "nbconvert_exporter": "python",
   "pygments_lexer": "ipython3",
   "version": "3.5.2"
  }
 },
 "nbformat": 4,
 "nbformat_minor": 2
}
