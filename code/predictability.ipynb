{
 "cells": [
  {
   "cell_type": "markdown",
   "metadata": {},
   "source": [
    "# Assess predictablity over time"
   ]
  },
  {
   "cell_type": "code",
   "execution_count": 2,
   "metadata": {},
   "outputs": [],
   "source": [
    "from sklearn.feature_extraction.text import CountVectorizer\n",
    "from sklearn.preprocessing import StandardScaler\n",
    "from sklearn.linear_model import Ridge\n",
    "import pandas as pd\n",
    "import numpy as np\n",
    "from scipy.stats import pearsonr\n",
    "from matplotlib import pyplot as plt\n",
    "%matplotlib inline\n",
    "from scipy.stats import zscore\n",
    "import os"
   ]
  },
  {
   "cell_type": "markdown",
   "metadata": {},
   "source": [
    "In the previous two notebooks, we broke data out by term, and developed a routine for predicting MQ scores using only the justices' language in oral argument. We found that, at least in the case we examined, accuracy was highest / error was lowest with a rather small group of features: just 420 common words.\n",
    "\n",
    "Now let's see if accuracy changes meaningfully over time. We could ultimately measure this in lots of different ways, but for ease of coding right now I'm just calculating the Pearson correlation between predicted and actual MQ scores."
   ]
  },
  {
   "cell_type": "code",
   "execution_count": 11,
   "metadata": {},
   "outputs": [
    {
     "name": "stdout",
     "output_type": "stream",
     "text": [
      "1957 0.0492469050465 0.00242525765666\n",
      "1958 0.145943943332 0.0212996345952\n",
      "1959 0.0443036089283 0.00196280976407\n",
      "1960 -0.0471141729271 0.0022197452906\n",
      "1961 -0.139095193749 0.0193474729242\n",
      "1962 0.0121420014704 0.000147428199706\n",
      "1963 0.052027600141 0.00270687117643\n",
      "1964 0.0812480428271 0.00660124446323\n",
      "1965 0.0767939375819 0.00589730884934\n",
      "1966 0.0610362753325 0.00372542690647\n",
      "1967 -0.104835658505 0.0109905152941\n",
      "1968 0.0172722656165 0.000298331159527\n",
      "1969 0.0955615751974 0.00913201465422\n",
      "1970 0.116725223684 0.013624777844\n",
      "1971 0.0652902981461 0.004262823032\n",
      "1972 0.0783678544876 0.00614152061699\n",
      "1973 -0.017494793111 0.000306067785998\n",
      "1974 -0.0230198703809 0.000529914432353\n",
      "1975 -0.0351775970708 0.00123746333567\n",
      "1976 0.0781183532584 0.00610247711581\n",
      "1977 0.0781155558144 0.00610204006019\n",
      "1978 0.0652399757122 0.00425625443093\n",
      "1979 0.16196737707 0.0262334312351\n",
      "1980 0.203815083448 0.0415405882409\n",
      "1981 0.22193853828 0.0492567147738\n",
      "1982 0.137666346775 0.0189520230343\n",
      "1983 0.113520688456 0.0128869467076\n",
      "1984 0.182995056439 0.0334871906812\n",
      "1985 0.224475585052 0.0503892882844\n",
      "1986 0.204701035737 0.0419025140317\n",
      "1987 0.179469779197 0.0322094016452\n",
      "1988 -0.272679143495 0.074353915297\n",
      "1989 -0.0933137620759 0.00870745819275\n",
      "1990 0.103781178574 0.0107705330263\n",
      "1991 0.306413075209 0.0938889726591\n",
      "1992 0.273962329654 0.0750553580693\n",
      "1993 0.0502013935949 0.00252017991887\n",
      "1994 0.040671066811 0.00165413567555\n",
      "1995 -0.0828261439038 0.00686017011398\n",
      "1996 -0.082744871885 0.00684671382326\n",
      "1997 -0.036912690556 0.00136254672408\n",
      "1998 0.0278758561698 0.000777063357198\n",
      "1999 0.0346001730593 0.00119717197573\n",
      "2000 0.0327403561199 0.00107193091886\n",
      "2001 0.056359478019 0.00317639076258\n",
      "2002 -0.0689133522902 0.00474905012388\n",
      "2003 0.0870635682307 0.00758006491306\n",
      "2004 0.0279315853157 0.000780173458251\n",
      "2005 0.0716585650394 0.0051349499435\n",
      "2006 0.0254456059076 0.000647478860007\n",
      "2007 -0.0240045248634 0.000576217213919\n",
      "2008 0.0734277878833 0.00539164003344\n",
      "2009 0.0822569726272 0.0067662095458\n",
      "2010 0.150504135058 0.0226514946697\n",
      "2011 0.178123533406 0.0317279931531\n"
     ]
    }
   ],
   "source": [
    "midpoints = []\n",
    "rs = []\n",
    "\n",
    "for midpoint in range(1957, 2012):\n",
    "    yearly = []\n",
    "\n",
    "    for term in range(midpoint-2, midpoint+3):\n",
    "        infile = '/Volumes/TARDIS/oralarg/termgrouped/term' + str(term) + '.tsv'\n",
    "        if os.path.isfile(infile):\n",
    "            data = pd.read_csv(infile, sep = '\\t')\n",
    "            yearly.append(data)\n",
    "\n",
    "    data = pd.concat(yearly, ignore_index = True)\n",
    "\n",
    "    data = data.loc[data.wordct > 100, : ]\n",
    "    # I'm dropping rows with less than a hundred words,\n",
    "    # because that's not much data.\n",
    "    \n",
    "    data.dropna(subset = ['mq'], inplace = True)\n",
    "\n",
    "    data.reset_index(inplace = True)\n",
    "    data = data.assign(z = zscore(data.mq))\n",
    "    \n",
    "    vectorizer = CountVectorizer(max_features = 420)\n",
    "    termdoc = vectorizer.fit_transform(data.text)\n",
    "    td = pd.DataFrame(termdoc.toarray())\n",
    "    td = td.div(td.sum(axis=1), axis=0)\n",
    "\n",
    "    predictions = [float('nan') for x in range(data.shape[0])]\n",
    "\n",
    "    for judge in set(data.justice):\n",
    "\n",
    "        # Now we're really going to identify rows associated\n",
    "        # with a specific justice.\n",
    "\n",
    "        justice_row_nums = data.index[data.justice == judge]\n",
    "        justice_rows = td.loc[justice_row_nums, : ]\n",
    "\n",
    "        other_row_nums = np.ones(td.shape[0], dtype = bool)\n",
    "        # creates a list that's all True\n",
    "        other_row_nums[justice_row_nums] = False\n",
    "        # now we've masked the rows for this justice\n",
    "        other_rows = td.loc[other_row_nums, : ]\n",
    "\n",
    "        ridge = Ridge(alpha = 0.1, normalize = False)\n",
    "        scaler = StandardScaler(with_mean = False)\n",
    "\n",
    "        X = scaler.fit_transform(other_rows)\n",
    "        y = zscore(data.loc[other_row_nums, 'mq'])\n",
    "\n",
    "        ridge.fit(X, y)\n",
    "\n",
    "        newX = scaler.transform(justice_rows)\n",
    "        yhat = ridge.predict(newX)\n",
    "\n",
    "        for rownum, prediction in zip(justice_row_nums, yhat):\n",
    "            if not pd.isnull(predictions[rownum]):\n",
    "                print('error')\n",
    "            predictions[rownum] = prediction\n",
    "\n",
    "    predictions = np.array(predictions)\n",
    "    cor = pearsonr(predictions, data.z)[0]\n",
    "\n",
    "    r2 = cor ** 2\n",
    "    print(midpoint, cor, r2)\n",
    "    rs.append(cor)\n",
    "    midpoints.append(midpoint)\n",
    "    "
   ]
  },
  {
   "cell_type": "code",
   "execution_count": 12,
   "metadata": {},
   "outputs": [
    {
     "data": {
      "text/plain": [
       "[<matplotlib.lines.Line2D at 0x1a1e3c1048>]"
      ]
     },
     "execution_count": 12,
     "metadata": {},
     "output_type": "execute_result"
    },
    {
     "data": {
      "image/png": "[encoded data removed]",
      "text/plain": [
       "<matplotlib.figure.Figure at 0x1a0d5c4278>"
      ]
     },
     "metadata": {},
     "output_type": "display_data"
    }
   ],
   "source": [
    "plt.plot(midpoints, rs)"
   ]
  },
  {
   "cell_type": "markdown",
   "metadata": {},
   "source": [
    "### conclusion\n",
    "\n",
    "I hate to say it, but that's not a meaningful trend. The variation from one year to the next is going to greatly exceed any secular trend. Moreover, accuracy is never very high; looking at the whole timeline, it's not even completely clear that it's meaningfully different from zero!\n",
    "\n",
    "I suspect this is a blind alley."
   ]
  },
  {
   "cell_type": "code",
   "execution_count": null,
   "metadata": {},
   "outputs": [],
   "source": []
  }
 ],
 "metadata": {
  "kernelspec": {
   "display_name": "Python 3",
   "language": "python",
   "name": "python3"
  },
  "language_info": {
   "codemirror_mode": {
    "name": "ipython",
    "version": 3
   },
   "file_extension": ".py",
   "mimetype": "text/x-python",
   "name": "python",
   "nbconvert_exporter": "python",
   "pygments_lexer": "ipython3",
   "version": "3.5.2"
  }
 },
 "nbformat": 4,
 "nbformat_minor": 2
}
