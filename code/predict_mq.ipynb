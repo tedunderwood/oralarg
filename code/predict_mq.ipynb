{
 "cells": [
  {
   "cell_type": "markdown",
   "metadata": {},
   "source": [
    "# Predict MQ scores\n",
    "\n",
    "Given term-specific datasets, we build a loop that predicts MQ scores within each dataset (or within a moving window of several terms).\n",
    "\n",
    "Our data will be aggregated by case & justice — so, everything Justice Y said during case X.\n",
    "\n",
    "We'll hold out justices during prediction, so we don't use any of Felix Frankfurter's own remarks in the training set to predict Frankfurter's MQ score."
   ]
  },
  {
   "cell_type": "code",
   "execution_count": 193,
   "metadata": {},
   "outputs": [],
   "source": [
    "from sklearn.feature_extraction.text import CountVectorizer\n",
    "from sklearn.preprocessing import StandardScaler\n",
    "from sklearn.linear_model import Ridge\n",
    "import pandas as pd\n",
    "import numpy as np\n",
    "from scipy.stats import pearsonr\n",
    "from matplotlib import pyplot as plt\n",
    "%matplotlib inline\n",
    "from scipy.stats import zscore"
   ]
  },
  {
   "cell_type": "markdown",
   "metadata": {},
   "source": [
    "## An example on a specific term\n",
    "\n",
    "Let's see how this works in one term, before we run the process on the whole sequence. This will allow us to tune some parameters, and also allow me to comment and illustrate intermediate stages of analysis.\n",
    "\n",
    "Let's start with 1990, for no good reason. Read in the data and look at the first five rows."
   ]
  },
  {
   "cell_type": "code",
   "execution_count": 210,
   "metadata": {},
   "outputs": [],
   "source": [
    "yearly = []\n",
    "\n",
    "for term in range(1990, 1995):\n",
    "    infile = '/Volumes/TARDIS/oralarg/termgrouped/term' + str(term) + '.tsv'\n",
    "    data = pd.read_csv(infile, sep = '\\t')\n",
    "    yearly.append(data)\n",
    "\n",
    "data = pd.concat(yearly, ignore_index = True)\n",
    "\n",
    "data = data.loc[data.wordct > 100, : ]\n",
    "# I'm dropping rows with less than a hundred words,\n",
    "# because that's not much data.\n",
    "\n",
    "data.reset_index(inplace = True)\n",
    "data = data.assign(fold = data.index % 10)"
   ]
  },
  {
   "cell_type": "code",
   "execution_count": 211,
   "metadata": {},
   "outputs": [
    {
     "name": "stdout",
     "output_type": "stream",
     "text": [
      "The #rows and #columns of the data: (2943, 7)\n"
     ]
    },
    {
     "data": {
      "text/html": [
       "<div>\n",
       "<style scoped>\n",
       "    .dataframe tbody tr th:only-of-type {\n",
       "        vertical-align: middle;\n",
       "    }\n",
       "\n",
       "    .dataframe tbody tr th {\n",
       "        vertical-align: top;\n",
       "    }\n",
       "\n",
       "    .dataframe thead th {\n",
       "        text-align: right;\n",
       "    }\n",
       "</style>\n",
       "<table border=\"1\" class=\"dataframe\">\n",
       "  <thead>\n",
       "    <tr style=\"text-align: right;\">\n",
       "      <th></th>\n",
       "      <th>index</th>\n",
       "      <th>justice</th>\n",
       "      <th>mq</th>\n",
       "      <th>speakercase</th>\n",
       "      <th>text</th>\n",
       "      <th>wordct</th>\n",
       "      <th>fold</th>\n",
       "    </tr>\n",
       "  </thead>\n",
       "  <tbody>\n",
       "    <tr>\n",
       "      <th>2938</th>\n",
       "      <td>3368</td>\n",
       "      <td>DHSouter</td>\n",
       "      <td>-0.317</td>\n",
       "      <td>1994-092-DHSouter</td>\n",
       "      <td>--There certainly wasn't a consensus to draw a...</td>\n",
       "      <td>1130</td>\n",
       "      <td>8</td>\n",
       "    </tr>\n",
       "    <tr>\n",
       "      <th>2939</th>\n",
       "      <td>3369</td>\n",
       "      <td>JPStevens</td>\n",
       "      <td>-3.012</td>\n",
       "      <td>1994-092-JPStevens</td>\n",
       "      <td>Don't you think the answer to Justice Scalia's...</td>\n",
       "      <td>568</td>\n",
       "      <td>9</td>\n",
       "    </tr>\n",
       "    <tr>\n",
       "      <th>2940</th>\n",
       "      <td>3371</td>\n",
       "      <td>SDOConnor</td>\n",
       "      <td>0.829</td>\n",
       "      <td>1994-092-SDOConnor</td>\n",
       "      <td>Well, why is district shape any more objective...</td>\n",
       "      <td>257</td>\n",
       "      <td>0</td>\n",
       "    </tr>\n",
       "    <tr>\n",
       "      <th>2941</th>\n",
       "      <td>3372</td>\n",
       "      <td>SGBreyer</td>\n",
       "      <td>-0.306</td>\n",
       "      <td>1994-092-SGBreyer</td>\n",
       "      <td>So then in your... sorry. So then, in your vie...</td>\n",
       "      <td>627</td>\n",
       "      <td>1</td>\n",
       "    </tr>\n",
       "    <tr>\n",
       "      <th>2942</th>\n",
       "      <td>3373</td>\n",
       "      <td>WHRehnquist</td>\n",
       "      <td>1.871</td>\n",
       "      <td>1994-092-WHRehnquist</td>\n",
       "      <td>We'll hear argument next in Number 94-631, Mil...</td>\n",
       "      <td>293</td>\n",
       "      <td>2</td>\n",
       "    </tr>\n",
       "  </tbody>\n",
       "</table>\n",
       "</div>"
      ],
      "text/plain": [
       "      index      justice     mq           speakercase  \\\n",
       "2938   3368     DHSouter -0.317     1994-092-DHSouter   \n",
       "2939   3369    JPStevens -3.012    1994-092-JPStevens   \n",
       "2940   3371    SDOConnor  0.829    1994-092-SDOConnor   \n",
       "2941   3372     SGBreyer -0.306     1994-092-SGBreyer   \n",
       "2942   3373  WHRehnquist  1.871  1994-092-WHRehnquist   \n",
       "\n",
       "                                                   text  wordct  fold  \n",
       "2938  --There certainly wasn't a consensus to draw a...    1130     8  \n",
       "2939  Don't you think the answer to Justice Scalia's...     568     9  \n",
       "2940  Well, why is district shape any more objective...     257     0  \n",
       "2941  So then in your... sorry. So then, in your vie...     627     1  \n",
       "2942  We'll hear argument next in Number 94-631, Mil...     293     2  "
      ]
     },
     "execution_count": 211,
     "metadata": {},
     "output_type": "execute_result"
    }
   ],
   "source": [
    "print(\"The #rows and #columns of the data:\", data.shape)\n",
    "data.tail()"
   ]
  },
  {
   "cell_type": "markdown",
   "metadata": {},
   "source": [
    "Now we're going to transform the \"text\" column into a matrix where the rows line up with the row count of the original data, but the columns are words. Each cell will have the count of that word in that row.\n",
    "\n",
    "To do this we start by creating a \"vectorizer,\" an object that will do the counting."
   ]
  },
  {
   "cell_type": "code",
   "execution_count": 212,
   "metadata": {},
   "outputs": [],
   "source": [
    "vectorizer = CountVectorizer(max_features = 1200)"
   ]
  },
  {
   "cell_type": "markdown",
   "metadata": {},
   "source": [
    "Then we ask the vectorizer to transform the text column, creating a term-document matrix."
   ]
  },
  {
   "cell_type": "code",
   "execution_count": 213,
   "metadata": {},
   "outputs": [],
   "source": [
    "termdoc = vectorizer.fit_transform(data.text)"
   ]
  },
  {
   "cell_type": "code",
   "execution_count": 214,
   "metadata": {},
   "outputs": [
    {
     "data": {
      "text/plain": [
       "(2943, 1200)"
      ]
     },
     "execution_count": 214,
     "metadata": {},
     "output_type": "execute_result"
    }
   ],
   "source": [
    "termdoc.shape"
   ]
  },
  {
   "cell_type": "markdown",
   "metadata": {},
   "source": [
    "The term-doc matrix has 713 rows--just like the original data--and 3000 columns. What are those columns?\n",
    "\n",
    "To find out, we have to \"unpack\" the sparse (compressed) term-doc matrix into something with labels."
   ]
  },
  {
   "cell_type": "code",
   "execution_count": 215,
   "metadata": {},
   "outputs": [
    {
     "data": {
      "text/html": [
       "<div>\n",
       "<style scoped>\n",
       "    .dataframe tbody tr th:only-of-type {\n",
       "        vertical-align: middle;\n",
       "    }\n",
       "\n",
       "    .dataframe tbody tr th {\n",
       "        vertical-align: top;\n",
       "    }\n",
       "\n",
       "    .dataframe thead th {\n",
       "        text-align: right;\n",
       "    }\n",
       "</style>\n",
       "<table border=\"1\" class=\"dataframe\">\n",
       "  <thead>\n",
       "    <tr style=\"text-align: right;\">\n",
       "      <th></th>\n",
       "      <th>000</th>\n",
       "      <th>10</th>\n",
       "      <th>100</th>\n",
       "      <th>11</th>\n",
       "      <th>12</th>\n",
       "      <th>1983</th>\n",
       "      <th>20</th>\n",
       "      <th>30</th>\n",
       "      <th>50</th>\n",
       "      <th>60</th>\n",
       "      <th>...</th>\n",
       "      <th>written</th>\n",
       "      <th>wrong</th>\n",
       "      <th>yeah</th>\n",
       "      <th>year</th>\n",
       "      <th>years</th>\n",
       "      <th>yes</th>\n",
       "      <th>yet</th>\n",
       "      <th>york</th>\n",
       "      <th>you</th>\n",
       "      <th>your</th>\n",
       "    </tr>\n",
       "  </thead>\n",
       "  <tbody>\n",
       "    <tr>\n",
       "      <th>0</th>\n",
       "      <td>0</td>\n",
       "      <td>0</td>\n",
       "      <td>0</td>\n",
       "      <td>0</td>\n",
       "      <td>0</td>\n",
       "      <td>0</td>\n",
       "      <td>0</td>\n",
       "      <td>0</td>\n",
       "      <td>0</td>\n",
       "      <td>0</td>\n",
       "      <td>...</td>\n",
       "      <td>0</td>\n",
       "      <td>0</td>\n",
       "      <td>0</td>\n",
       "      <td>0</td>\n",
       "      <td>0</td>\n",
       "      <td>0</td>\n",
       "      <td>0</td>\n",
       "      <td>0</td>\n",
       "      <td>3</td>\n",
       "      <td>1</td>\n",
       "    </tr>\n",
       "    <tr>\n",
       "      <th>1</th>\n",
       "      <td>0</td>\n",
       "      <td>0</td>\n",
       "      <td>0</td>\n",
       "      <td>0</td>\n",
       "      <td>0</td>\n",
       "      <td>0</td>\n",
       "      <td>0</td>\n",
       "      <td>0</td>\n",
       "      <td>0</td>\n",
       "      <td>0</td>\n",
       "      <td>...</td>\n",
       "      <td>0</td>\n",
       "      <td>0</td>\n",
       "      <td>0</td>\n",
       "      <td>0</td>\n",
       "      <td>0</td>\n",
       "      <td>0</td>\n",
       "      <td>0</td>\n",
       "      <td>0</td>\n",
       "      <td>7</td>\n",
       "      <td>1</td>\n",
       "    </tr>\n",
       "    <tr>\n",
       "      <th>2</th>\n",
       "      <td>0</td>\n",
       "      <td>0</td>\n",
       "      <td>0</td>\n",
       "      <td>0</td>\n",
       "      <td>0</td>\n",
       "      <td>0</td>\n",
       "      <td>0</td>\n",
       "      <td>0</td>\n",
       "      <td>0</td>\n",
       "      <td>0</td>\n",
       "      <td>...</td>\n",
       "      <td>0</td>\n",
       "      <td>0</td>\n",
       "      <td>0</td>\n",
       "      <td>0</td>\n",
       "      <td>0</td>\n",
       "      <td>1</td>\n",
       "      <td>0</td>\n",
       "      <td>0</td>\n",
       "      <td>14</td>\n",
       "      <td>0</td>\n",
       "    </tr>\n",
       "    <tr>\n",
       "      <th>3</th>\n",
       "      <td>0</td>\n",
       "      <td>0</td>\n",
       "      <td>0</td>\n",
       "      <td>0</td>\n",
       "      <td>0</td>\n",
       "      <td>0</td>\n",
       "      <td>0</td>\n",
       "      <td>0</td>\n",
       "      <td>0</td>\n",
       "      <td>0</td>\n",
       "      <td>...</td>\n",
       "      <td>0</td>\n",
       "      <td>0</td>\n",
       "      <td>0</td>\n",
       "      <td>0</td>\n",
       "      <td>0</td>\n",
       "      <td>0</td>\n",
       "      <td>0</td>\n",
       "      <td>0</td>\n",
       "      <td>15</td>\n",
       "      <td>3</td>\n",
       "    </tr>\n",
       "    <tr>\n",
       "      <th>4</th>\n",
       "      <td>0</td>\n",
       "      <td>0</td>\n",
       "      <td>0</td>\n",
       "      <td>0</td>\n",
       "      <td>0</td>\n",
       "      <td>0</td>\n",
       "      <td>1</td>\n",
       "      <td>0</td>\n",
       "      <td>0</td>\n",
       "      <td>0</td>\n",
       "      <td>...</td>\n",
       "      <td>0</td>\n",
       "      <td>0</td>\n",
       "      <td>0</td>\n",
       "      <td>0</td>\n",
       "      <td>1</td>\n",
       "      <td>0</td>\n",
       "      <td>0</td>\n",
       "      <td>0</td>\n",
       "      <td>7</td>\n",
       "      <td>0</td>\n",
       "    </tr>\n",
       "  </tbody>\n",
       "</table>\n",
       "<p>5 rows × 1200 columns</p>\n",
       "</div>"
      ],
      "text/plain": [
       "   000  10  100  11  12  1983  20  30  50  60  ...   written  wrong  yeah  \\\n",
       "0    0   0    0   0   0     0   0   0   0   0  ...         0      0     0   \n",
       "1    0   0    0   0   0     0   0   0   0   0  ...         0      0     0   \n",
       "2    0   0    0   0   0     0   0   0   0   0  ...         0      0     0   \n",
       "3    0   0    0   0   0     0   0   0   0   0  ...         0      0     0   \n",
       "4    0   0    0   0   0     0   1   0   0   0  ...         0      0     0   \n",
       "\n",
       "   year  years  yes  yet  york  you  your  \n",
       "0     0      0    0    0     0    3     1  \n",
       "1     0      0    0    0     0    7     1  \n",
       "2     0      0    1    0     0   14     0  \n",
       "3     0      0    0    0     0   15     3  \n",
       "4     0      1    0    0     0    7     0  \n",
       "\n",
       "[5 rows x 1200 columns]"
      ]
     },
     "execution_count": 215,
     "metadata": {},
     "output_type": "execute_result"
    }
   ],
   "source": [
    "vocab = vectorizer.get_feature_names()\n",
    "td = pd.DataFrame(termdoc.toarray(), columns = vocab)\n",
    "td.head()"
   ]
  },
  {
   "cell_type": "code",
   "execution_count": 216,
   "metadata": {},
   "outputs": [
    {
     "data": {
      "text/html": [
       "<div>\n",
       "<style scoped>\n",
       "    .dataframe tbody tr th:only-of-type {\n",
       "        vertical-align: middle;\n",
       "    }\n",
       "\n",
       "    .dataframe tbody tr th {\n",
       "        vertical-align: top;\n",
       "    }\n",
       "\n",
       "    .dataframe thead th {\n",
       "        text-align: right;\n",
       "    }\n",
       "</style>\n",
       "<table border=\"1\" class=\"dataframe\">\n",
       "  <thead>\n",
       "    <tr style=\"text-align: right;\">\n",
       "      <th></th>\n",
       "      <th>000</th>\n",
       "      <th>10</th>\n",
       "      <th>100</th>\n",
       "      <th>11</th>\n",
       "      <th>12</th>\n",
       "      <th>1983</th>\n",
       "      <th>20</th>\n",
       "      <th>30</th>\n",
       "      <th>50</th>\n",
       "      <th>60</th>\n",
       "      <th>...</th>\n",
       "      <th>written</th>\n",
       "      <th>wrong</th>\n",
       "      <th>yeah</th>\n",
       "      <th>year</th>\n",
       "      <th>years</th>\n",
       "      <th>yes</th>\n",
       "      <th>yet</th>\n",
       "      <th>york</th>\n",
       "      <th>you</th>\n",
       "      <th>your</th>\n",
       "    </tr>\n",
       "  </thead>\n",
       "  <tbody>\n",
       "    <tr>\n",
       "      <th>0</th>\n",
       "      <td>0.0</td>\n",
       "      <td>0.0</td>\n",
       "      <td>0.0</td>\n",
       "      <td>0.0</td>\n",
       "      <td>0.0</td>\n",
       "      <td>0.0</td>\n",
       "      <td>0.000000</td>\n",
       "      <td>0.0</td>\n",
       "      <td>0.0</td>\n",
       "      <td>0.0</td>\n",
       "      <td>...</td>\n",
       "      <td>0.0</td>\n",
       "      <td>0.0</td>\n",
       "      <td>0.0</td>\n",
       "      <td>0.0</td>\n",
       "      <td>0.000000</td>\n",
       "      <td>0.000000</td>\n",
       "      <td>0.0</td>\n",
       "      <td>0.0</td>\n",
       "      <td>0.022222</td>\n",
       "      <td>0.007407</td>\n",
       "    </tr>\n",
       "    <tr>\n",
       "      <th>1</th>\n",
       "      <td>0.0</td>\n",
       "      <td>0.0</td>\n",
       "      <td>0.0</td>\n",
       "      <td>0.0</td>\n",
       "      <td>0.0</td>\n",
       "      <td>0.0</td>\n",
       "      <td>0.000000</td>\n",
       "      <td>0.0</td>\n",
       "      <td>0.0</td>\n",
       "      <td>0.0</td>\n",
       "      <td>...</td>\n",
       "      <td>0.0</td>\n",
       "      <td>0.0</td>\n",
       "      <td>0.0</td>\n",
       "      <td>0.0</td>\n",
       "      <td>0.000000</td>\n",
       "      <td>0.000000</td>\n",
       "      <td>0.0</td>\n",
       "      <td>0.0</td>\n",
       "      <td>0.040698</td>\n",
       "      <td>0.005814</td>\n",
       "    </tr>\n",
       "    <tr>\n",
       "      <th>2</th>\n",
       "      <td>0.0</td>\n",
       "      <td>0.0</td>\n",
       "      <td>0.0</td>\n",
       "      <td>0.0</td>\n",
       "      <td>0.0</td>\n",
       "      <td>0.0</td>\n",
       "      <td>0.000000</td>\n",
       "      <td>0.0</td>\n",
       "      <td>0.0</td>\n",
       "      <td>0.0</td>\n",
       "      <td>...</td>\n",
       "      <td>0.0</td>\n",
       "      <td>0.0</td>\n",
       "      <td>0.0</td>\n",
       "      <td>0.0</td>\n",
       "      <td>0.000000</td>\n",
       "      <td>0.002304</td>\n",
       "      <td>0.0</td>\n",
       "      <td>0.0</td>\n",
       "      <td>0.032258</td>\n",
       "      <td>0.000000</td>\n",
       "    </tr>\n",
       "    <tr>\n",
       "      <th>3</th>\n",
       "      <td>0.0</td>\n",
       "      <td>0.0</td>\n",
       "      <td>0.0</td>\n",
       "      <td>0.0</td>\n",
       "      <td>0.0</td>\n",
       "      <td>0.0</td>\n",
       "      <td>0.000000</td>\n",
       "      <td>0.0</td>\n",
       "      <td>0.0</td>\n",
       "      <td>0.0</td>\n",
       "      <td>...</td>\n",
       "      <td>0.0</td>\n",
       "      <td>0.0</td>\n",
       "      <td>0.0</td>\n",
       "      <td>0.0</td>\n",
       "      <td>0.000000</td>\n",
       "      <td>0.000000</td>\n",
       "      <td>0.0</td>\n",
       "      <td>0.0</td>\n",
       "      <td>0.037879</td>\n",
       "      <td>0.007576</td>\n",
       "    </tr>\n",
       "    <tr>\n",
       "      <th>4</th>\n",
       "      <td>0.0</td>\n",
       "      <td>0.0</td>\n",
       "      <td>0.0</td>\n",
       "      <td>0.0</td>\n",
       "      <td>0.0</td>\n",
       "      <td>0.0</td>\n",
       "      <td>0.004292</td>\n",
       "      <td>0.0</td>\n",
       "      <td>0.0</td>\n",
       "      <td>0.0</td>\n",
       "      <td>...</td>\n",
       "      <td>0.0</td>\n",
       "      <td>0.0</td>\n",
       "      <td>0.0</td>\n",
       "      <td>0.0</td>\n",
       "      <td>0.004292</td>\n",
       "      <td>0.000000</td>\n",
       "      <td>0.0</td>\n",
       "      <td>0.0</td>\n",
       "      <td>0.030043</td>\n",
       "      <td>0.000000</td>\n",
       "    </tr>\n",
       "  </tbody>\n",
       "</table>\n",
       "<p>5 rows × 1200 columns</p>\n",
       "</div>"
      ],
      "text/plain": [
       "   000   10  100   11   12  1983        20   30   50   60    ...     written  \\\n",
       "0  0.0  0.0  0.0  0.0  0.0   0.0  0.000000  0.0  0.0  0.0    ...         0.0   \n",
       "1  0.0  0.0  0.0  0.0  0.0   0.0  0.000000  0.0  0.0  0.0    ...         0.0   \n",
       "2  0.0  0.0  0.0  0.0  0.0   0.0  0.000000  0.0  0.0  0.0    ...         0.0   \n",
       "3  0.0  0.0  0.0  0.0  0.0   0.0  0.000000  0.0  0.0  0.0    ...         0.0   \n",
       "4  0.0  0.0  0.0  0.0  0.0   0.0  0.004292  0.0  0.0  0.0    ...         0.0   \n",
       "\n",
       "   wrong  yeah  year     years       yes  yet  york       you      your  \n",
       "0    0.0   0.0   0.0  0.000000  0.000000  0.0   0.0  0.022222  0.007407  \n",
       "1    0.0   0.0   0.0  0.000000  0.000000  0.0   0.0  0.040698  0.005814  \n",
       "2    0.0   0.0   0.0  0.000000  0.002304  0.0   0.0  0.032258  0.000000  \n",
       "3    0.0   0.0   0.0  0.000000  0.000000  0.0   0.0  0.037879  0.007576  \n",
       "4    0.0   0.0   0.0  0.004292  0.000000  0.0   0.0  0.030043  0.000000  \n",
       "\n",
       "[5 rows x 1200 columns]"
      ]
     },
     "execution_count": 216,
     "metadata": {},
     "output_type": "execute_result"
    }
   ],
   "source": [
    "td = td.div(td.sum(axis=1), axis=0)\n",
    "td.head()"
   ]
  },
  {
   "cell_type": "markdown",
   "metadata": {},
   "source": [
    "You can see that most of the columns are fairly rare words, but \"you,\" for instance, is rather common.\n",
    "\n",
    "### Let's make predictions\n",
    "\n",
    "The key here is to divide the dataset up by \"justice,\" so that we aren't simply recognizing a justice's own style, but predicting their ideology using linguistic patterns from their *colleagues.* Otherwise, our accuracy could be a measure of \"stylistic idiosyncrasy\" rather than \"linguistic polarization.\"\n",
    "\n",
    "To illustrate how much difference this makes, let's start by **doing things wrong!** Instead of dividing the data by justice, we'll divide it by ten random \"folds\" that are basically the last digit of the row number."
   ]
  },
  {
   "cell_type": "code",
   "execution_count": 217,
   "metadata": {},
   "outputs": [
    {
     "name": "stdout",
     "output_type": "stream",
     "text": [
      "0\n",
      "1\n",
      "2\n",
      "3\n",
      "4\n",
      "5\n",
      "6\n",
      "7\n",
      "8\n",
      "9\n"
     ]
    },
    {
     "data": {
      "text/plain": [
       "(0.64882558489683573, 0.0)"
      ]
     },
     "execution_count": 217,
     "metadata": {},
     "output_type": "execute_result"
    }
   ],
   "source": [
    "predictions = [float('nan') for x in range(data.shape[0])]\n",
    "\n",
    "for fold in set(data.fold):\n",
    "    print(fold)\n",
    "    \n",
    "    justice_row_nums = data.index[data.fold == fold]\n",
    "    \n",
    "    # Note that although I call this justice_row_nums\n",
    "    # these are not really rows for a single justice yet;\n",
    "    # they're just rows associated with a random tenth of\n",
    "    # the dataset.\n",
    "    \n",
    "    justice_rows = td.loc[justice_row_nums, : ]\n",
    "    \n",
    "    other_row_nums = np.ones(td.shape[0], dtype = bool)\n",
    "    # creates a list that's all True\n",
    "    other_row_nums[justice_row_nums] = False\n",
    "    # now we've masked the rows for this justice\n",
    "    other_rows = td.loc[other_row_nums, : ]\n",
    "    \n",
    "    ridge = Ridge(alpha = 10, normalize = False)\n",
    "    scaler = StandardScaler(with_mean = True)\n",
    "    \n",
    "    X = scaler.fit_transform(other_rows)\n",
    "    y = data.loc[other_row_nums, 'mq']\n",
    "    \n",
    "    ridge.fit(X, y)\n",
    "    \n",
    "    newX = scaler.transform(justice_rows)\n",
    "    yhat = ridge.predict(newX)\n",
    "    \n",
    "    for rownum, prediction in zip(justice_row_nums, yhat):\n",
    "        if not pd.isnull(predictions[rownum]):\n",
    "            print('error')\n",
    "        predictions[rownum] = prediction\n",
    "    \n",
    "predictions = np.array(predictions)\n",
    "pearsonr(predictions, data.mq)    "
   ]
  },
  {
   "cell_type": "markdown",
   "metadata": {},
   "source": [
    "Wow, a Pearson's correlation of .55 is pretty strong. Let's visualize that: we'll plot the actual MQ score horizontally and the predicted score vertically."
   ]
  },
  {
   "cell_type": "code",
   "execution_count": 218,
   "metadata": {},
   "outputs": [
    {
     "data": {
      "text/plain": [
       "<matplotlib.collections.PathCollection at 0x1a30d47400>"
      ]
     },
     "execution_count": 218,
     "metadata": {},
     "output_type": "execute_result"
    },
    {
     "data": {
      "image/png": "[encoded data removed]",
      "text/plain": [
       "<matplotlib.figure.Figure at 0x1a30d019e8>"
      ]
     },
     "metadata": {},
     "output_type": "display_data"
    }
   ],
   "source": [
    "plt.scatter(data.mq, predictions)"
   ]
  },
  {
   "cell_type": "markdown",
   "metadata": {},
   "source": [
    "If you want to get the actual and predicted means for justices, that's easy too:"
   ]
  },
  {
   "cell_type": "code",
   "execution_count": 219,
   "metadata": {},
   "outputs": [
    {
     "name": "stdout",
     "output_type": "stream",
     "text": [
      "WHRehnquist  \tprediction: 1.87341856539 \tactual: 2.07030853392\n",
      "BRWhite  \tprediction: 0.597069626072 \tactual: 0.597775193798\n",
      "RBGinsburg  \tprediction: 0.148375371085 \tactual: -0.315770700637\n",
      "HABlackmun  \tprediction: -0.148739642332 \tactual: -1.53818518519\n",
      "SDOConnor  \tprediction: 0.893777103922 \tactual: 0.898397759104\n",
      "AScalia  \tprediction: 1.80088829195 \tactual: 2.55097180043\n",
      "DHSouter  \tprediction: 0.225410120064 \tactual: 0.194697329377\n",
      "AMKennedy  \tprediction: 0.786806798982 \tactual: 0.979639473684\n",
      "SGBreyer  \tprediction: 0.106791820368 \tactual: -0.306\n",
      "CThomas  \tprediction: 1.24586928921 \tactual: 3.29166666667\n",
      "JPStevens  \tprediction: -1.39999734506 \tactual: -2.36083486239\n"
     ]
    }
   ],
   "source": [
    "for judge in set(data.justice):\n",
    "    rownums = data.index[data.justice == judge]\n",
    "    predictedmean = np.mean(predictions[rownums])\n",
    "    actualmean = np.mean(data.loc[rownums, 'mq'])\n",
    "    print(judge, \" \\tprediction:\", predictedmean, \"\\tactual:\", actualmean)"
   ]
  },
  {
   "cell_type": "markdown",
   "metadata": {},
   "source": [
    "#### the problem\n",
    "\n",
    "We're not really predicting ideology. We're just recognizing justices' individual styles.\n",
    "\n",
    "Let's do it right, by holding out all the rows for one justice at a time."
   ]
  },
  {
   "cell_type": "code",
   "execution_count": 220,
   "metadata": {},
   "outputs": [
    {
     "name": "stdout",
     "output_type": "stream",
     "text": [
      "WHRehnquist\n",
      "BRWhite\n",
      "RBGinsburg\n",
      "HABlackmun\n",
      "SDOConnor\n",
      "AScalia\n",
      "DHSouter\n",
      "AMKennedy\n",
      "SGBreyer\n",
      "CThomas\n",
      "JPStevens\n"
     ]
    },
    {
     "data": {
      "text/plain": [
       "(-0.87190148132397627, 0.0)"
      ]
     },
     "execution_count": 220,
     "metadata": {},
     "output_type": "execute_result"
    }
   ],
   "source": [
    "predictions = [float('nan') for x in range(data.shape[0])]\n",
    "\n",
    "for judge in set(data.justice):\n",
    "    print(judge)\n",
    "    \n",
    "    # Now we're really going to identify rows associated\n",
    "    # with a specific justice.\n",
    "    \n",
    "    justice_row_nums = data.index[data.justice == judge]\n",
    "    justice_rows = td.loc[justice_row_nums, : ]\n",
    "    \n",
    "    other_row_nums = np.ones(td.shape[0], dtype = bool)\n",
    "    # creates a list that's all True\n",
    "    other_row_nums[justice_row_nums] = False\n",
    "    # now we've masked the rows for this justice\n",
    "    other_rows = td.loc[other_row_nums, : ]\n",
    "    \n",
    "    ridge = Ridge(alpha = 50000, normalize = False)\n",
    "    scaler = StandardScaler(with_mean = True)\n",
    "    \n",
    "    X = scaler.fit_transform(other_rows)\n",
    "    y = data.loc[other_row_nums, 'mq']\n",
    "    \n",
    "    ridge.fit(X, y)\n",
    "    \n",
    "    newX = scaler.transform(justice_rows)\n",
    "    yhat = ridge.predict(newX)\n",
    "    \n",
    "    for rownum, prediction in zip(justice_row_nums, yhat):\n",
    "        if not pd.isnull(predictions[rownum]):\n",
    "            print('error')\n",
    "        predictions[rownum] = prediction\n",
    "\n",
    "predictions = np.array(predictions)\n",
    "pearsonr(predictions, data.mq)   \n",
    "    "
   ]
  },
  {
   "cell_type": "markdown",
   "metadata": {},
   "source": [
    "Wait, what? Now we've got a **negative** correlation! How is that possible??"
   ]
  },
  {
   "cell_type": "code",
   "execution_count": 221,
   "metadata": {},
   "outputs": [
    {
     "data": {
      "text/plain": [
       "<matplotlib.collections.PathCollection at 0x1a32332320>"
      ]
     },
     "execution_count": 221,
     "metadata": {},
     "output_type": "execute_result"
    },
    {
     "data": {
      "image/png": "[encoded data removed]",
      "text/plain": [
       "<matplotlib.figure.Figure at 0x1a30f46ac8>"
      ]
     },
     "metadata": {},
     "output_type": "display_data"
    }
   ],
   "source": [
    "plt.scatter(data.mq, predictions)"
   ]
  },
  {
   "cell_type": "markdown",
   "metadata": {},
   "source": [
    "Predicted MQ score is now strongly *negatively* correlated with real MQ score.\n",
    "\n",
    "The reason is that removing one justice from the group biases the group mean *away* from the ideological position of the justice we removed. So when you remove Scalia, the model is going to learn that the mean MQ score is pretty liberal! To do this right, we need to make sure that the mean MQ score in the training set is always zero.\n",
    "\n",
    "We'll do that by converting MQ scores into z-scores: we'll subtract the mean, and divide by standard deviation, before running a model.\n",
    "\n",
    "#### Finally doing it 100% right"
   ]
  },
  {
   "cell_type": "code",
   "execution_count": 222,
   "metadata": {},
   "outputs": [],
   "source": [
    "data = data.assign(z = zscore(data.mq))"
   ]
  },
  {
   "cell_type": "code",
   "execution_count": 246,
   "metadata": {},
   "outputs": [
    {
     "name": "stdout",
     "output_type": "stream",
     "text": [
      "WHRehnquist\n",
      "BRWhite\n",
      "RBGinsburg\n",
      "HABlackmun\n",
      "SDOConnor\n",
      "AScalia\n",
      "DHSouter\n",
      "AMKennedy\n",
      "SGBreyer\n",
      "CThomas\n",
      "JPStevens\n"
     ]
    },
    {
     "data": {
      "text/plain": [
       "(0.18606377499329227, 2.4717108859199947e-24)"
      ]
     },
     "execution_count": 246,
     "metadata": {},
     "output_type": "execute_result"
    }
   ],
   "source": [
    "predictions = [float('nan') for x in range(data.shape[0])]\n",
    "\n",
    "for judge in set(data.justice):\n",
    "    print(judge)\n",
    "    \n",
    "    # Now we're really going to identify rows associated\n",
    "    # with a specific justice.\n",
    "    \n",
    "    justice_row_nums = data.index[data.justice == judge]\n",
    "    justice_rows = td.loc[justice_row_nums, : ]\n",
    "    \n",
    "    other_row_nums = np.ones(td.shape[0], dtype = bool)\n",
    "    # creates a list that's all True\n",
    "    other_row_nums[justice_row_nums] = False\n",
    "    # now we've masked the rows for this justice\n",
    "    other_rows = td.loc[other_row_nums, : ]\n",
    "    \n",
    "    ridge = Ridge(alpha = 800, normalize = False)\n",
    "    scaler = StandardScaler(with_mean = False)\n",
    "    \n",
    "    X = scaler.fit_transform(other_rows)\n",
    "    y = zscore(data.loc[other_row_nums, 'mq'])\n",
    "    \n",
    "    ridge.fit(X, y)\n",
    "    \n",
    "    newX = scaler.transform(justice_rows)\n",
    "    yhat = ridge.predict(newX)\n",
    "    \n",
    "    for rownum, prediction in zip(justice_row_nums, yhat):\n",
    "        if not pd.isnull(predictions[rownum]):\n",
    "            print('error')\n",
    "        predictions[rownum] = prediction\n",
    "\n",
    "predictions = np.array(predictions)\n",
    "pearsonr(predictions, data.z)  "
   ]
  },
  {
   "cell_type": "markdown",
   "metadata": {},
   "source": [
    "**analysis:** It's a pretty slight effect, as we might expect. Inferring ideology from relatively brief questions is not an easy task."
   ]
  },
  {
   "cell_type": "code",
   "execution_count": 249,
   "metadata": {},
   "outputs": [
    {
     "data": {
      "text/plain": [
       "<matplotlib.collections.PathCollection at 0x1a3a58b390>"
      ]
     },
     "execution_count": 249,
     "metadata": {},
     "output_type": "execute_result"
    },
    {
     "data": {
      "image/png": "[encoded data removed]",
      "text/plain": [
       "<matplotlib.figure.Figure at 0x1a3a567400>"
      ]
     },
     "metadata": {},
     "output_type": "display_data"
    }
   ],
   "source": [
    "plt.scatter(data.z, predictions)"
   ]
  },
  {
   "cell_type": "markdown",
   "metadata": {},
   "source": [
    "### Predictions broken out by justice\n",
    "\n",
    "The scatterplot above has vertical columns, because each justice/term combination is associated with a single realMQ score on the horizontal axis, but we make lots of different predictions for individual cases on the vertical axis. \n",
    "\n",
    "Let's aggregate the predictions for each justice to get a clearer picture."
   ]
  },
  {
   "cell_type": "code",
   "execution_count": 248,
   "metadata": {},
   "outputs": [
    {
     "name": "stdout",
     "output_type": "stream",
     "text": [
      "WHRehnquist  \tprediction: 0.291407393297 \tactual: 2.07030853392\n",
      "BRWhite  \tprediction: -0.102358416359 \tactual: 0.597775193798\n",
      "RBGinsburg  \tprediction: -0.077985772971 \tactual: -0.315770700637\n",
      "HABlackmun  \tprediction: -0.343791074121 \tactual: -1.53818518519\n",
      "SDOConnor  \tprediction: 0.133287315808 \tactual: 0.898397759104\n",
      "AScalia  \tprediction: -0.219418594729 \tactual: 2.55097180043\n",
      "DHSouter  \tprediction: -0.171486764032 \tactual: 0.194697329377\n",
      "AMKennedy  \tprediction: -0.175272553993 \tactual: 0.979639473684\n",
      "SGBreyer  \tprediction: -0.103490880187 \tactual: -0.306\n",
      "CThomas  \tprediction: -0.27460503163 \tactual: 3.29166666667\n",
      "JPStevens  \tprediction: -0.328770843548 \tactual: -2.36083486239\n"
     ]
    },
    {
     "data": {
      "image/png": "[encoded data removed]",
      "text/plain": [
       "<matplotlib.figure.Figure at 0x1a30da1438>"
      ]
     },
     "metadata": {},
     "output_type": "display_data"
    }
   ],
   "source": [
    "actual_z = []\n",
    "predicted_z = []\n",
    "justices = []\n",
    "\n",
    "for judge in set(data.justice):\n",
    "    rownums = data.index[data.justice == judge]\n",
    "    predictedmean = np.mean(predictions[rownums])\n",
    "    actualmean = np.mean(data.loc[rownums, 'mq'])\n",
    "    print(judge, \" \\tprediction:\", predictedmean, \"\\tactual:\", actualmean)\n",
    "    actual_z.append(actualmean)\n",
    "    predicted_z.append(predictedmean)\n",
    "    justices.append(judge)\n",
    "\n",
    "fig, ax = plt.subplots(figsize = (12, 8))\n",
    "ax.scatter(actual_z, predicted_z)\n",
    "\n",
    "for i, txt in enumerate(justices):\n",
    "    ax.annotate(txt, (actual_z[i], predicted_z[i]))"
   ]
  },
  {
   "cell_type": "markdown",
   "metadata": {},
   "source": [
    "### Tuning parameters to find a best setting\n",
    "\n",
    "In particular, how many features should we use?\n",
    "\n",
    "When you're not cross-validating well, it can seem effective to include thousands and thousands of features, because you're really just memorizing the personal styles of justices.\n",
    "\n",
    "But when you rigorously divide the dataset by justice, prediction is harder, and it turns out that we're relying on a rather small set of common words."
   ]
  },
  {
   "cell_type": "code",
   "execution_count": 299,
   "metadata": {},
   "outputs": [
    {
     "name": "stdout",
     "output_type": "stream",
     "text": [
      "100 \t 0.001 \t 1.1190293704 \t 0.0350398673119\n",
      "100 \t 0.1 \t 1.11902099906 \t 0.035041931736\n",
      "100 \t 1 \t 1.11894496147 \t 0.0350606692353\n",
      "100 \t 5 \t 1.11860843516 \t 0.0351432970404\n",
      "100 \t 10 \t 1.11819099837 \t 0.0352451068064\n",
      "100 \t 50 \t 1.11497369938 \t 0.036003821254\n",
      "100 \t 100 \t 1.11122905856 \t 0.0368268783337\n",
      "100 \t 400 \t 1.09339860953 \t 0.0397665998891\n",
      "100 \t 1000 \t 1.07085382124 \t 0.0407948931208\n",
      "180 \t 0.001 \t 1.05158499655 \t 0.192719645139\n",
      "180 \t 0.1 \t 1.0515775671 \t 0.192720836473\n",
      "180 \t 1 \t 1.05151013588 \t 0.192731578825\n",
      "180 \t 5 \t 1.05121279195 \t 0.192777440607\n",
      "180 \t 10 \t 1.05084637414 \t 0.192830600988\n",
      "180 \t 50 \t 1.04810310195 \t 0.193114542736\n",
      "180 \t 100 \t 1.04506285164 \t 0.193204772007\n",
      "180 \t 400 \t 1.03215720037 \t 0.191139728189\n",
      "180 \t 1000 \t 1.01839961765 \t 0.184390621472\n",
      "260 \t 0.001 \t 1.04647023919 \t 0.233983075071\n",
      "260 \t 0.1 \t 1.04646195591 \t 0.233982226379\n",
      "260 \t 1 \t 1.04638677799 \t 0.233974450066\n",
      "260 \t 5 \t 1.04605533822 \t 0.233938586798\n",
      "260 \t 10 \t 1.04564705561 \t 0.233890884005\n",
      "260 \t 50 \t 1.04259705149 \t 0.233413248714\n",
      "260 \t 100 \t 1.03923585515 \t 0.232642294545\n",
      "260 \t 400 \t 1.02536452563 \t 0.226582595318\n",
      "260 \t 1000 \t 1.01172967227 \t 0.214524285525\n",
      "340 \t 0.001 \t 1.05583754018 \t 0.273232651476\n",
      "340 \t 0.1 \t 1.05582557555 \t 0.273231813564\n",
      "340 \t 1 \t 1.05571700352 \t 0.273224120548\n",
      "340 \t 5 \t 1.05523869822 \t 0.273188317785\n",
      "340 \t 10 \t 1.05465026656 \t 0.273140025627\n",
      "340 \t 50 \t 1.0502757499 \t 0.272638210399\n",
      "340 \t 100 \t 1.0454839627 \t 0.271810193001\n",
      "340 \t 400 \t 1.02586314338 \t 0.265323337494\n",
      "340 \t 1000 \t 1.0070764969 \t 0.252322594974\n",
      "420 \t 0.001 \t 1.06404218252 \t 0.27396263203\n",
      "420 \t 0.1 \t 1.06402734013 \t 0.273962329654\n",
      "420 \t 1 \t 1.06389267111 \t 0.273959502295\n",
      "420 \t 5 \t 1.06329976643 \t 0.27394525798\n",
      "420 \t 10 \t 1.0625711866 \t 0.273923742379\n",
      "420 \t 50 \t 1.05718552267 \t 0.273627147364\n",
      "420 \t 100 \t 1.05135342902 \t 0.273030206298\n",
      "420 \t 400 \t 1.02826740477 \t 0.267479137311\n",
      "420 \t 1000 \t 1.00739685639 \t 0.255143183111\n",
      "500 \t 0.001 \t 1.08747118928 \t 0.221560162676\n",
      "500 \t 0.1 \t 1.08745555455 \t 0.221560703\n",
      "500 \t 1 \t 1.08731371504 \t 0.221565516194\n",
      "500 \t 5 \t 1.08668962744 \t 0.221584796616\n",
      "500 \t 10 \t 1.08592354048 \t 0.221604237\n",
      "500 \t 50 \t 1.08028189755 \t 0.221604167279\n",
      "500 \t 100 \t 1.07419849307 \t 0.221321652692\n",
      "500 \t 400 \t 1.05008871064 \t 0.217073509976\n",
      "500 \t 1000 \t 1.02756371299 \t 0.206374379275\n",
      "580 \t 0.001 \t 1.07508835627 \t 0.23767994769\n",
      "580 \t 0.1 \t 1.07507293182 \t 0.23768047248\n",
      "580 \t 1 \t 1.07493305649 \t 0.237685108189\n",
      "580 \t 5 \t 1.07431879417 \t 0.237702835274\n",
      "580 \t 10 \t 1.0735673016 \t 0.237718689824\n",
      "580 \t 50 \t 1.06810688985 \t 0.237640435594\n",
      "580 \t 100 \t 1.06233685906 \t 0.23718405388\n",
      "580 \t 400 \t 1.04035860011 \t 0.231498361919\n",
      "580 \t 1000 \t 1.02089245446 \t 0.218501627305\n",
      "660 \t 0.001 \t 1.06240920876 \t 0.257004458745\n",
      "660 \t 0.1 \t 1.06239265104 \t 0.257006565298\n",
      "660 \t 1 \t 1.06224259906 \t 0.257025428553\n",
      "660 \t 5 \t 1.06158576447 \t 0.257103168517\n",
      "660 \t 10 \t 1.06078678702 \t 0.257187054057\n",
      "660 \t 50 \t 1.05512087773 \t 0.257436197922\n",
      "660 \t 100 \t 1.04936715801 \t 0.257040312543\n",
      "660 \t 400 \t 1.02914325711 \t 0.249456681358\n",
      "660 \t 1000 \t 1.01309693513 \t 0.232277896204\n",
      "740 \t 0.001 \t 1.06090139769 \t 0.260972429491\n",
      "740 \t 0.1 \t 1.06088262808 \t 0.26097535751\n",
      "740 \t 1 \t 1.06071257703 \t 0.2610016654\n",
      "740 \t 5 \t 1.05996915213 \t 0.261112009464\n",
      "740 \t 10 \t 1.05906686367 \t 0.261235637425\n",
      "740 \t 50 \t 1.05272479752 \t 0.261774376698\n",
      "740 \t 100 \t 1.0463752247 \t 0.26169661368\n",
      "740 \t 400 \t 1.02478418647 \t 0.255494186567\n",
      "740 \t 1000 \t 1.00858972357 \t 0.2398476787\n",
      "820 \t 0.001 \t 1.07995808787 \t 0.234727555536\n",
      "820 \t 0.1 \t 1.07993436776 \t 0.234734086755\n",
      "820 \t 1 \t 1.07971947177 \t 0.234793075999\n",
      "820 \t 5 \t 1.07878013619 \t 0.235047051892\n",
      "820 \t 10 \t 1.07764043942 \t 0.235346576033\n",
      "820 \t 50 \t 1.06964925834 \t 0.237159680636\n",
      "820 \t 100 \t 1.06170646175 \t 0.238396827219\n",
      "820 \t 400 \t 1.03538423696 \t 0.236665610919\n",
      "820 \t 1000 \t 1.01612781561 \t 0.224592287303\n",
      "900 \t 0.001 \t 1.12511901962 \t 0.17137504904\n",
      "900 \t 0.1 \t 1.12508126107 \t 0.171394351962\n",
      "900 \t 1 \t 1.12473921639 \t 0.171569202019\n",
      "900 \t 5 \t 1.12324484903 \t 0.172332806664\n",
      "900 \t 10 \t 1.12143343566 \t 0.17325738535\n",
      "900 \t 50 \t 1.10879531963 \t 0.17963137724\n",
      "900 \t 100 \t 1.09637335794 \t 0.185643316595\n",
      "900 \t 400 \t 1.05649273873 \t 0.200655320924\n",
      "900 \t 1000 \t 1.02855255312 \t 0.200929585359\n",
      "980 \t 0.001 \t 1.16156273771 \t 0.12923960551\n",
      "980 \t 0.1 \t 1.16151582179 \t 0.129262424078\n",
      "980 \t 1 \t 1.16109091471 \t 0.12946904101\n",
      "980 \t 5 \t 1.15923644237 \t 0.130369813719\n",
      "980 \t 10 \t 1.15699260028 \t 0.131457451552\n",
      "980 \t 50 \t 1.1414496965 \t 0.138905866515\n",
      "980 \t 100 \t 1.12633243463 \t 0.145937918657\n",
      "980 \t 400 \t 1.07839007437 \t 0.164710965337\n",
      "980 \t 1000 \t 1.04470039632 \t 0.168877050905\n"
     ]
    }
   ],
   "source": [
    "def rmse(predictions, targets):\n",
    "    return np.sqrt(((predictions - targets) ** 2).mean())\n",
    "\n",
    "features = []\n",
    "alphas = []\n",
    "errors = []\n",
    "\n",
    "for numfeatures in range(100, 1000, 80):\n",
    "    vectorizer = CountVectorizer(max_features = numfeatures)\n",
    "    termdoc = vectorizer.fit_transform(data.text)\n",
    "    td = pd.DataFrame(termdoc.toarray())\n",
    "    td = td.div(td.sum(axis=1), axis=0)\n",
    "    \n",
    "    for alpha in [.001, .1, 1, 5, 10, 50, 100, 400, 1000]:\n",
    "        \n",
    "        predictions = [float('nan') for x in range(data.shape[0])]\n",
    "\n",
    "        for judge in set(data.justice):\n",
    "\n",
    "            # Now we're really going to identify rows associated\n",
    "            # with a specific justice.\n",
    "\n",
    "            justice_row_nums = data.index[data.justice == judge]\n",
    "            justice_rows = td.loc[justice_row_nums, : ]\n",
    "\n",
    "            other_row_nums = np.ones(td.shape[0], dtype = bool)\n",
    "            # creates a list that's all True\n",
    "            other_row_nums[justice_row_nums] = False\n",
    "            # now we've masked the rows for this justice\n",
    "            other_rows = td.loc[other_row_nums, : ]\n",
    "\n",
    "            ridge = Ridge(alpha = alpha, normalize = False)\n",
    "            scaler = StandardScaler(with_mean = False)\n",
    "\n",
    "            X = scaler.fit_transform(other_rows)\n",
    "            y = zscore(data.loc[other_row_nums, 'mq'])\n",
    "\n",
    "            ridge.fit(X, y)\n",
    "\n",
    "            newX = scaler.transform(justice_rows)\n",
    "            yhat = ridge.predict(newX)\n",
    "\n",
    "            for rownum, prediction in zip(justice_row_nums, yhat):\n",
    "                if not pd.isnull(predictions[rownum]):\n",
    "                    print('error')\n",
    "                predictions[rownum] = prediction\n",
    "\n",
    "        predictions = np.array(predictions)\n",
    "        error = rmse(predictions, data.z)\n",
    "        cor = pearsonr(predictions, data.z)[0]\n",
    "        \n",
    "        features.append(numfeatures)\n",
    "        alphas.append(alpha)\n",
    "        if cor <= 0:\n",
    "            r2 = 0\n",
    "        else:\n",
    "            r2 = cor ** 2\n",
    "        errors.append(r2)\n",
    "        print(numfeatures, '\\t', alpha, '\\t', error, '\\t', cor)"
   ]
  },
  {
   "cell_type": "code",
   "execution_count": 300,
   "metadata": {},
   "outputs": [
    {
     "data": {
      "text/plain": [
       "12"
      ]
     },
     "execution_count": 300,
     "metadata": {},
     "output_type": "execute_result"
    }
   ],
   "source": [
    "len([x for x in range(100, 1000, 80)])"
   ]
  },
  {
   "cell_type": "code",
   "execution_count": 301,
   "metadata": {},
   "outputs": [],
   "source": [
    "grid = np.matrix(np.array_split(errors, 12))"
   ]
  },
  {
   "cell_type": "code",
   "execution_count": 302,
   "metadata": {},
   "outputs": [
    {
     "data": {
      "image/png": "[encoded data removed]",
      "text/plain": [
       "<matplotlib.figure.Figure at 0x1a4d003438>"
      ]
     },
     "metadata": {},
     "output_type": "display_data"
    }
   ],
   "source": [
    "fig, ax = plt.subplots(figsize=(6,6))\n",
    "ax.imshow(grid, cmap=plt.cm.Reds, interpolation='none')\n",
    "ax.set_aspect(1)"
   ]
  },
  {
   "cell_type": "markdown",
   "metadata": {},
   "source": [
    "#### result of tuning\n",
    "\n",
    "The best setting (for this data) is 420 features and alpha = 0.1.\n",
    "\n",
    "We're going to pray that this setting is reasonably good for the whole timeline. If it's necessary to tune separately for each segment of the timeline, we enter a world where validation is trickier, because we need to prove that we're not overfitting by tuning.\n",
    "\n",
    "But in reality, if there's that much volatility in the model, we probably won't have a signal worth discussing anyway."
   ]
  },
  {
   "cell_type": "code",
   "execution_count": 305,
   "metadata": {},
   "outputs": [
    {
     "name": "stdout",
     "output_type": "stream",
     "text": [
      "0.273962329654 0.0750553580693\n"
     ]
    }
   ],
   "source": [
    "vectorizer = CountVectorizer(max_features = 420)\n",
    "termdoc = vectorizer.fit_transform(data.text)\n",
    "td = pd.DataFrame(termdoc.toarray())\n",
    "td = td.div(td.sum(axis=1), axis=0)\n",
    "\n",
    "predictions = [float('nan') for x in range(data.shape[0])]\n",
    "\n",
    "for judge in set(data.justice):\n",
    "\n",
    "    # Now we're really going to identify rows associated\n",
    "    # with a specific justice.\n",
    "\n",
    "    justice_row_nums = data.index[data.justice == judge]\n",
    "    justice_rows = td.loc[justice_row_nums, : ]\n",
    "\n",
    "    other_row_nums = np.ones(td.shape[0], dtype = bool)\n",
    "    # creates a list that's all True\n",
    "    other_row_nums[justice_row_nums] = False\n",
    "    # now we've masked the rows for this justice\n",
    "    other_rows = td.loc[other_row_nums, : ]\n",
    "\n",
    "    ridge = Ridge(alpha = 0.1, normalize = False)\n",
    "    scaler = StandardScaler(with_mean = False)\n",
    "\n",
    "    X = scaler.fit_transform(other_rows)\n",
    "    y = zscore(data.loc[other_row_nums, 'mq'])\n",
    "\n",
    "    ridge.fit(X, y)\n",
    "\n",
    "    newX = scaler.transform(justice_rows)\n",
    "    yhat = ridge.predict(newX)\n",
    "\n",
    "    for rownum, prediction in zip(justice_row_nums, yhat):\n",
    "        if not pd.isnull(predictions[rownum]):\n",
    "            print('error')\n",
    "        predictions[rownum] = prediction\n",
    "\n",
    "predictions = np.array(predictions)\n",
    "error = rmse(predictions, data.z)\n",
    "cor = pearsonr(predictions, data.z)[0]\n",
    "\n",
    "r2 = cor ** 2\n",
    "print(cor, r2)"
   ]
  },
  {
   "cell_type": "code",
   "execution_count": 306,
   "metadata": {},
   "outputs": [
    {
     "name": "stdout",
     "output_type": "stream",
     "text": [
      "WHRehnquist  \tprediction: 0.939030473659 \tactual: 2.07030853392\n",
      "BRWhite  \tprediction: -0.0930903931003 \tactual: 0.597775193798\n",
      "RBGinsburg  \tprediction: -0.115028663711 \tactual: -0.315770700637\n",
      "HABlackmun  \tprediction: -0.120071764006 \tactual: -1.53818518519\n",
      "SDOConnor  \tprediction: 0.101715991449 \tactual: 0.898397759104\n",
      "AScalia  \tprediction: -0.304506810423 \tactual: 2.55097180043\n",
      "DHSouter  \tprediction: -0.15073206673 \tactual: 0.194697329377\n",
      "AMKennedy  \tprediction: -0.198934782975 \tactual: 0.979639473684\n",
      "SGBreyer  \tprediction: -0.0869531628548 \tactual: -0.306\n",
      "CThomas  \tprediction: -0.159412724837 \tactual: 3.29166666667\n",
      "JPStevens  \tprediction: -0.423326528703 \tactual: -2.36083486239\n"
     ]
    },
    {
     "data": {
      "image/png": "[encoded data removed]",
      "text/plain": [
       "<matplotlib.figure.Figure at 0x1a30d15a90>"
      ]
     },
     "metadata": {},
     "output_type": "display_data"
    }
   ],
   "source": [
    "actual_z = []\n",
    "predicted_z = []\n",
    "justices = []\n",
    "\n",
    "for judge in set(data.justice):\n",
    "    rownums = data.index[data.justice == judge]\n",
    "    predictedmean = np.mean(predictions[rownums])\n",
    "    actualmean = np.mean(data.loc[rownums, 'mq'])\n",
    "    print(judge, \" \\tprediction:\", predictedmean, \"\\tactual:\", actualmean)\n",
    "    actual_z.append(actualmean)\n",
    "    predicted_z.append(predictedmean)\n",
    "    justices.append(judge)\n",
    "\n",
    "fig, ax = plt.subplots(figsize = (12, 8))\n",
    "ax.scatter(actual_z, predicted_z)\n",
    "\n",
    "for i, txt in enumerate(justices):\n",
    "    ax.annotate(txt, (actual_z[i], predicted_z[i]))"
   ]
  },
  {
   "cell_type": "code",
   "execution_count": 307,
   "metadata": {},
   "outputs": [
    {
     "data": {
      "text/plain": [
       "<matplotlib.collections.PathCollection at 0x1a176ffe10>"
      ]
     },
     "execution_count": 307,
     "metadata": {},
     "output_type": "execute_result"
    },
    {
     "data": {
      "image/png": "[encoded data removed]",
      "text/plain": [
       "<matplotlib.figure.Figure at 0x10aca0358>"
      ]
     },
     "metadata": {},
     "output_type": "display_data"
    }
   ],
   "source": [
    "plt.scatter(data.z, predictions)"
   ]
  },
  {
   "cell_type": "code",
   "execution_count": null,
   "metadata": {},
   "outputs": [],
   "source": []
  }
 ],
 "metadata": {
  "kernelspec": {
   "display_name": "Python 3",
   "language": "python",
   "name": "python3"
  },
  "language_info": {
   "codemirror_mode": {
    "name": "ipython",
    "version": 3
   },
   "file_extension": ".py",
   "mimetype": "text/x-python",
   "name": "python",
   "nbconvert_exporter": "python",
   "pygments_lexer": "ipython3",
   "version": "3.5.2"
  }
 },
 "nbformat": 4,
 "nbformat_minor": 2
}
